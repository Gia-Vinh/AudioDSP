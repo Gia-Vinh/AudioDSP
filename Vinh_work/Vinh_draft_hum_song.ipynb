{
  "nbformat": 4,
  "nbformat_minor": 0,
  "metadata": {
    "colab": {
      "name": "Vinh-draft-hum_song.ipynb",
      "provenance": [],
      "collapsed_sections": [],
      "authorship_tag": "ABX9TyPETWpB05QTSXNRjO8OASTB",
      "include_colab_link": true
    },
    "kernelspec": {
      "name": "python3",
      "display_name": "Python 3"
    },
    "language_info": {
      "name": "python"
    }
  },
  "cells": [
    {
      "cell_type": "markdown",
      "metadata": {
        "id": "view-in-github",
        "colab_type": "text"
      },
      "source": [
        "<a href=\"https://colab.research.google.com/github/Gia-Vinh/AudioDSP/blob/main/Vinh_work/Vinh_draft_hum_song.ipynb\" target=\"_parent\"><img src=\"https://colab.research.google.com/assets/colab-badge.svg\" alt=\"Open In Colab\"/></a>"
      ]
    },
    {
      "cell_type": "code",
      "metadata": {
        "id": "0n6HIrGAVCFK"
      },
      "source": [
        "import os\n",
        "import librosa\n",
        "import librosa.display\n",
        "import IPython.display as ipd\n",
        "import numpy as np\n",
        "import matplotlib.pyplot as plt"
      ],
      "execution_count": 1,
      "outputs": []
    },
    {
      "cell_type": "markdown",
      "metadata": {
        "id": "HvmoEm5PFWFI"
      },
      "source": [
        "Loading audio files with Librosa"
      ]
    },
    {
      "cell_type": "code",
      "metadata": {
        "id": "LQz1-4xJZyTJ"
      },
      "source": [
        "scale_file = \"audio/scale.wav\"\n",
        "debussy_file = \"audio/debussy.wav\"\n",
        "redhot_file = \"audio/redhot.wav\"\n",
        "duke_file = \"audio/duke.wav\""
      ],
      "execution_count": null,
      "outputs": []
    },
    {
      "cell_type": "code",
      "metadata": {
        "id": "12QDmW9VFdjb"
      },
      "source": [
        "ipd.Audio(scale_file)"
      ],
      "execution_count": null,
      "outputs": []
    },
    {
      "cell_type": "code",
      "metadata": {
        "id": "8WHLRHWsFiGV"
      },
      "source": [
        "ipd.Audio(debussy_file)"
      ],
      "execution_count": null,
      "outputs": []
    },
    {
      "cell_type": "code",
      "metadata": {
        "id": "gD6VHhQ2FjFf"
      },
      "source": [
        "ipd.Audio(redhot_file)"
      ],
      "execution_count": null,
      "outputs": []
    },
    {
      "cell_type": "code",
      "metadata": {
        "id": "lyL-5afBFkBG"
      },
      "source": [
        "ipd.Audio(duke_file)"
      ],
      "execution_count": null,
      "outputs": []
    },
    {
      "cell_type": "code",
      "metadata": {
        "id": "Wy9JJYy6Fk_2"
      },
      "source": [
        "# load audio files with librosa\n",
        "scale, sr = librosa.load(scale_file)\n",
        "debussy, _ = librosa.load(debussy_file)\n",
        "redhot, _ = librosa.load(redhot_file)\n",
        "duke, _ = librosa.load(duke_file)"
      ],
      "execution_count": null,
      "outputs": []
    },
    {
      "cell_type": "markdown",
      "metadata": {
        "id": "KY63LPxtFm3Y"
      },
      "source": [
        "Extracting Short-Time Fourier Transform"
      ]
    },
    {
      "cell_type": "code",
      "metadata": {
        "id": "8DRd0i85FojJ"
      },
      "source": [
        "FRAME_SIZE = 2048\n",
        "HOP_SIZE = 512"
      ],
      "execution_count": null,
      "outputs": []
    },
    {
      "cell_type": "code",
      "metadata": {
        "id": "yFOqVGeTFpnL"
      },
      "source": [
        "S_scale = librosa.stft(scale, n_fft=FRAME_SIZE, hop_length=HOP_SIZE)"
      ],
      "execution_count": null,
      "outputs": []
    },
    {
      "cell_type": "code",
      "metadata": {
        "id": "nojUokqSFpuf"
      },
      "source": [
        "S_scale.shape"
      ],
      "execution_count": null,
      "outputs": []
    },
    {
      "cell_type": "code",
      "metadata": {
        "id": "PTal_PLMFsot"
      },
      "source": [
        "type(S_scale[0][0])"
      ],
      "execution_count": null,
      "outputs": []
    },
    {
      "cell_type": "markdown",
      "metadata": {
        "id": "vwa80AtOFtlK"
      },
      "source": [
        "Calculating the spectrogram"
      ]
    },
    {
      "cell_type": "code",
      "metadata": {
        "id": "famwSx54FvWv"
      },
      "source": [
        "Y_scale = np.abs(S_scale) ** 2"
      ],
      "execution_count": null,
      "outputs": []
    },
    {
      "cell_type": "code",
      "metadata": {
        "id": "SjHjiQBiFwWD"
      },
      "source": [
        "Y_scale.shape"
      ],
      "execution_count": null,
      "outputs": []
    },
    {
      "cell_type": "code",
      "metadata": {
        "id": "K_mXx2nxFwZe"
      },
      "source": [
        "type(Y_scale[0][0])"
      ],
      "execution_count": null,
      "outputs": []
    },
    {
      "cell_type": "markdown",
      "metadata": {
        "id": "m-NrenNqFy1A"
      },
      "source": [
        "Visualizing the spectrogram"
      ]
    },
    {
      "cell_type": "code",
      "metadata": {
        "id": "4K_sfx5rF0AS"
      },
      "source": [
        "def plot_spectrogram(Y, sr, hop_length, y_axis=\"linear\"):\n",
        "    plt.figure(figsize=(25, 10))\n",
        "    librosa.display.specshow(Y, \n",
        "                             sr=sr, \n",
        "                             hop_length=hop_length, \n",
        "                             x_axis=\"time\", \n",
        "                             y_axis=y_axis)\n",
        "    plt.colorbar(format=\"%+2.f\")"
      ],
      "execution_count": null,
      "outputs": []
    },
    {
      "cell_type": "code",
      "metadata": {
        "id": "iEPmKDwQF0JW"
      },
      "source": [
        "plot_spectrogram(Y_scale, sr, HOP_SIZE)"
      ],
      "execution_count": null,
      "outputs": []
    },
    {
      "cell_type": "markdown",
      "metadata": {
        "id": "ZMmXBCxFF3Fs"
      },
      "source": [
        "Log-Amplitude Spectrogram"
      ]
    },
    {
      "cell_type": "code",
      "metadata": {
        "id": "ExJE72UUF2n5"
      },
      "source": [
        "Y_log_scale = librosa.power_to_db(Y_scale)\n",
        "plot_spectrogram(Y_log_scale, sr, HOP_SIZE)"
      ],
      "execution_count": null,
      "outputs": []
    },
    {
      "cell_type": "markdown",
      "metadata": {
        "id": "zFTBBVSfF6bQ"
      },
      "source": [
        "Log-Frequency Spectrogram"
      ]
    },
    {
      "cell_type": "code",
      "metadata": {
        "id": "ktC1anXZF665"
      },
      "source": [
        "plot_spectrogram(Y_log_scale, sr, HOP_SIZE, y_axis=\"log\")"
      ],
      "execution_count": null,
      "outputs": []
    },
    {
      "cell_type": "markdown",
      "metadata": {
        "id": "u-M3SstuF9x1"
      },
      "source": [
        "Visualising songs from different genres"
      ]
    },
    {
      "cell_type": "code",
      "metadata": {
        "id": "y6kPYYWfF_HK"
      },
      "source": [
        "S_debussy = librosa.stft(debussy, n_fft=FRAME_SIZE, hop_length=HOP_SIZE)\n",
        "S_redhot = librosa.stft(redhot, n_fft=FRAME_SIZE, hop_length=HOP_SIZE)\n",
        "S_duke = librosa.stft(duke, n_fft=FRAME_SIZE, hop_length=HOP_SIZE)\n",
        "\n",
        "\n",
        "Y_debussy = librosa.power_to_db(np.abs(S_debussy) ** 2)\n",
        "Y_redhot = librosa.power_to_db(np.abs(S_redhot) ** 2)\n",
        "Y_duke = librosa.power_to_db(np.abs(S_duke) ** 2)\n",
        "\n",
        "plot_spectrogram(Y_debussy, sr, HOP_SIZE, y_axis=\"log\")\n",
        "plot_spectrogram(Y_redhot, sr, HOP_SIZE, y_axis=\"log\")\n",
        "plot_spectrogram(Y_duke, sr, HOP_SIZE, y_axis=\"log\")"
      ],
      "execution_count": null,
      "outputs": []
    }
  ]
}