{
 "cells": [
  {
   "cell_type": "markdown",
   "metadata": {},
   "source": [
    "# Exercise 8: Sound transformations\n",
    "\n",
    "In this exercise you will use the HPS model to creatively transform sounds. There are two parts in this exercise. In the first one you should perform a natural sounding transformation on the speech sound that you used in the previous exercise (E7). In the second part you should select a sound of your choice and do a \"creative\" transformation. You will have to write a short description of the sound and of the transformation you did, giving the link to the original sound and uploading several transformed sounds.\n",
    "\n",
    "For this exercise, you can use the `transformations_GUI.py` (in `software/transformations_interface/`) to try things, once decided you can fill up the code in this file. You can also do everything from here and add any new code you wish.\n",
    "\n",
    "In order to perform a good/interesting transformation you should make sure that you have performed an analysis that is adequate for the type of transformation you want to do. Not every HPS analysis representation will work for every type of sound transformation. There will be things in the analysis that when modified will result in undesired artifacts. In general, for any transformation, it is best to have the harmonic values as smooth and continuous as possible and an stochastic representation as smooth and with as few values as possible. It might be much better to start with an analysis representation that does not result in the best reconstruction in exchange of having smoother and more compact data.\n",
    "\n",
    "To help you with the exercise, we give a brief description of the transformation parameters used by the HPS transformation function:\n",
    "\n",
    "1. `freqScaling`: frequency scaling factors to be applied to the harmonics of the sound, in time-value pairs (where value of 1 is no scaling). The time values can be normalized, from 0 to 1, or can correspond to the times in seconds of the input sound. The scaling factor is a multiplicative factor, thus a value of 1 is no change. Example: to transpose an octave the sound you can specify `[0, 2, 1, 2]`.\n",
    "2. `freqStretching`: frequency stretching factors to be applied to the harmonics of the sound, in time-value pairs (value of 1 is no stretching). The time values can be normalized, from 0 to 1, or can correspond to the times in seconds of the input sound. The stretching factor is a multiplicative factor whose effect depend on the harmonic number, higher harmonics being more affected that lower ones, thus resulting in an inharmonic effect. A value of 1 results in no transformation. Example: an array like `[0, 1.2, 1, 1.2]` will result in a perceptually large inharmonic effect.\n",
    "3. `timbrePreservation`: 1 preserves the original timbre, 0 does not. It can only have a value of 0 or of 1. By setting the value to 1 the spectral shape of the original sound is preserved even when the frequencies of the sound are modified. In the case of speech it would correspond to the idea of preserving the identity of the speaker after the transformation.\n",
    "4. `timeScaling`: time scaling factors to be applied to the whole sound, in time-value pairs (value of 1 is no scaling). The time values can be normalized, from 0 to 1, or can correspond to the times in seconds of the input sound. The time scaling factor is a multiplicative factor, thus 1 is no change. Example: to stretch the original sound to twice the original duration, we can specify `[0, 0, 1, 2]`.\n",
    "\n",
    "All the transformation values can have as many points as desired, but they have to be in the form of an array with time-value pairs, so of even size. For example a good array for a frequency stretching of a sound that has a duration of 3.146 seconds could be: `[0, 1.2, 2.01, 1.2, 2.679, 0.7, 3.146, 0.7]`."
   ]
  },
  {
   "cell_type": "markdown",
   "metadata": {},
   "source": [
    "## Part 1. Perform natural sounding transformations of a speech sound\n",
    "\n",
    "Use the HPS model with the sound `speech-female.wav`, available in the sounds directory, to first analyze and then obtain a natural sounding transformation of the sound. The synthesized sound should sound as different as possible to the original sound while sounding natural. By natural we mean that it should sound like speech, that it could have been possible to be produced by a human, and by listening we should consider it as a speech sound, even though we might not be able to understand it. You should first make sure that you start from a good analysis, then you can do time and/or frequency scaling transformations. The transformation should be done with a single pass, no mixing of sounds coming from different transformations. Since you used the same sound in A7, use that experience to get a good analysis, but consider that the analysis, given that we now want to use it for applying a very strong transformation, might be done differently than what you did in A7.\n",
    "\n",
    "Write a short paragraph for every transformation, explaining what you wanted to obtain and explaining the transformations you did, giving both the analysis and transformation parameter values (sufficiently detailed for the evaluator to be able to reproduce the analysis and transformation)."
   ]
  },
  {
   "cell_type": "code",
   "execution_count": null,
   "metadata": {},
   "outputs": [],
   "source": [
    "import numpy as np\n",
    "import matplotlib.pyplot as plt\n",
    "from scipy.signal import get_window\n",
    "import sys, os\n",
    "sys.path.append('../software/models/')\n",
    "sys.path.append('../software/transformations/')\n",
    "import utilFunctions as UF\n",
    "import stft as STFT\n",
    "import hpsModel as HPS\n",
    "import hpsTransformations as HPST\n",
    "import harmonicTransformations as HT\n",
    "import IPython.display as ipd"
   ]
  },
  {
   "cell_type": "code",
   "execution_count": null,
   "metadata": {},
   "outputs": [],
   "source": [
    "# 1.1 perform an analysis/synthesis using the HPS model\n",
    "\n",
    "input_file = '../sounds/speech-female.wav'\n",
    "\n",
    "### set the parameters\n",
    "window ='XXX'\n",
    "M = XXX\n",
    "N = XXX\n",
    "t = XXX\n",
    "minSineDur = XXX\n",
    "nH = XXX \n",
    "minf0 = XXX\n",
    "maxf0 = XXX\n",
    "f0et = XXX\n",
    "harmDevSlope = XXX\n",
    "stocf = XXX\n",
    "\n",
    "# no need to modify anything after this\n",
    "Ns = 512\n",
    "H = 128\n",
    "\n",
    "(fs, x) = UF.wavread(input_file)\n",
    "w = get_window(window, M, fftbins=True)\n",
    "hfreq, hmag, hphase, stocEnv = HPS.hpsModelAnal(x, fs, w, N, H, t, nH, minf0, maxf0, f0et, harmDevSlope, minSineDur, Ns, stocf)\n",
    "y, yh, yst = HPS.hpsModelSynth(hfreq, hmag, hphase, stocEnv, Ns, H, fs)\n",
    "\n",
    "ipd.display(ipd.Audio(data=x, rate=fs))\n",
    "ipd.display(ipd.Audio(data=y, rate=fs))"
   ]
  },
  {
   "cell_type": "code",
   "execution_count": null,
   "metadata": {},
   "outputs": [],
   "source": [
    "# 1.2 Perform a transformation from the previous analysis\n",
    "\n",
    "### define the transformations\n",
    "freqScaling = np.array([XX,  ])\n",
    "freqStretching = np.array([XX, ])\n",
    "timbrePreservation = X\n",
    "timeScaling = np.array([XX, ])\n",
    "\n",
    "\n",
    "# no need to modify the following code \n",
    "Ns = 512\n",
    "H = 128\n",
    "\n",
    "# frequency scaling of the harmonics \n",
    "hfreqt, hmagt = HT.harmonicFreqScaling(hfreq, hmag, freqScaling, freqStretching, timbrePreservation, fs)\n",
    "\n",
    "# time scaling the sound\n",
    "yhfreq, yhmag, ystocEnv = HPST.hpsTimeScale(hfreqt, hmagt, stocEnv, timeScaling)\n",
    "\n",
    "# synthesis from the trasformed hps representation \n",
    "y, yh, yst = HPS.hpsModelSynth(yhfreq, yhmag, np.array([]), ystocEnv, Ns, H, fs)\n",
    "\n",
    "ipd.display(ipd.Audio(data=y, rate=fs))"
   ]
  },
  {
   "cell_type": "markdown",
   "metadata": {},
   "source": [
    "### Explain Part 1"
   ]
  },
  {
   "cell_type": "markdown",
   "metadata": {},
   "source": [
    "## Part 2. Perform creative transformations with a sound of your choice\n",
    "\n",
    "Pick any natural and harmonic sound from Freesound and use the HPS model to do the most creative and interesting transformation you can come up with. Sounding as different as possible from the original sound.\n",
    "\n",
    "It is essential that you start with a natural harmonic sound. Examples include (but not limited to) any acoustic harmonic instrument, speech, harmonic sound from nature, etc. As long as they have a harmonic structure, you can use it. You can even reuse the sound you used in A7-Part2 or upload your own sound to freesound and then use it.\n",
    "\n",
    "The sound from Freesound to use could be in any format, but to use the sms-tools software you will have to first convert it to be a monophonic file (one channel), sampling rate of 44100, and 16bits samples.\n",
    "\n",
    "You can do any interesting transformation with a single pass. It is not allowed to mix sounds obtained from different transformations. The transformed sound need not sound natural. So, time to show some creativity!\n",
    "\n",
    "Write a short paragraph for every transformation, explaining what you wanted to obtain and explaining the transformations you did, giving both the analysis and transformation parameter values (sufficiently detailed for the evaluator to be able to reproduce the analysis and transformation)."
   ]
  },
  {
   "cell_type": "code",
   "execution_count": null,
   "metadata": {},
   "outputs": [],
   "source": [
    "# 1.1 perform an analysis/synthesis using the HPS model\n",
    "\n",
    "### set the parameters\n",
    "input_file = 'XXX'\n",
    "window ='XXX'\n",
    "M = XXX\n",
    "N = XXX\n",
    "t = XXX\n",
    "minSineDur = XXX\n",
    "nH = XXX \n",
    "minf0 = XXX\n",
    "maxf0 = XXX\n",
    "f0et = XXX\n",
    "harmDevSlope = XXX\n",
    "stocf = XXX\n",
    "\n",
    "# no need to modify anything after this\n",
    "Ns = 512\n",
    "H = 128\n",
    "\n",
    "(fs, x) = UF.wavread(input_file)\n",
    "w = get_window(window, M, fftbins=True)\n",
    "hfreq, hmag, hphase, stocEnv = HPS.hpsModelAnal(x, fs, w, N, H, t, nH, minf0, maxf0, f0et, harmDevSlope, minSineDur, Ns, stocf)\n",
    "y, yh, yst = HPS.hpsModelSynth(hfreq, hmag, hphase, stocEnv, Ns, H, fs)\n",
    "\n",
    "ipd.display(ipd.Audio(data=x, rate=fs))\n",
    "ipd.display(ipd.Audio(data=y, rate=fs))"
   ]
  },
  {
   "cell_type": "code",
   "execution_count": null,
   "metadata": {},
   "outputs": [],
   "source": [
    "# 1.2 Perform a transformation from the previous analysis\n",
    "\n",
    "### define the transformations\n",
    "freqScaling = np.array([XX,  ])\n",
    "freqStretching = np.array([XX, ])\n",
    "timbrePreservation = X\n",
    "timeScaling = np.array([XX, ])\n",
    "\n",
    "\n",
    "# no need to modify anything after this\n",
    "Ns = 512\n",
    "H = 128\n",
    "\n",
    "# frequency scaling of the harmonics \n",
    "hfreqt, hmagt = HT.harmonicFreqScaling(hfreq, hmag, freqScaling, freqStretching, timbrePreservation, fs)\n",
    "\n",
    "# time scaling the sound\n",
    "yhfreq, yhmag, ystocEnv = HPST.hpsTimeScale(hfreqt, hmagt, stocEnv, timeScaling)\n",
    "\n",
    "# synthesis from the trasformed hps representation \n",
    "y, yh, yst = HPS.hpsModelSynth(yhfreq, yhmag, np.array([]), ystocEnv, Ns, H, fs)\n",
    "\n",
    "ipd.display(ipd.Audio(data=y, rate=fs))"
   ]
  },
  {
   "cell_type": "markdown",
   "metadata": {},
   "source": [
    "### Explain Part 2"
   ]
  }
 ],
 "metadata": {
  "kernelspec": {
   "display_name": "Python 3",
   "language": "python",
   "name": "python3"
  },
  "language_info": {
   "codemirror_mode": {
    "name": "ipython",
    "version": 3
   },
   "file_extension": ".py",
   "mimetype": "text/x-python",
   "name": "python",
   "nbconvert_exporter": "python",
   "pygments_lexer": "ipython3",
   "version": "3.5.2"
  }
 },
 "nbformat": 4,
 "nbformat_minor": 2
}
